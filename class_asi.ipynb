{
  "nbformat": 4,
  "nbformat_minor": 0,
  "metadata": {
    "colab": {
      "provenance": [],
      "authorship_tag": "ABX9TyNJzncSQBsn9tYZ9A+l44f5",
      "include_colab_link": true
    },
    "kernelspec": {
      "name": "python3",
      "display_name": "Python 3"
    },
    "language_info": {
      "name": "python"
    }
  },
  "cells": [
    {
      "cell_type": "markdown",
      "metadata": {
        "id": "view-in-github",
        "colab_type": "text"
      },
      "source": [
        "<a href=\"https://colab.research.google.com/github/Deepak-18449/29june_regex/blob/main/class_asi.ipynb\" target=\"_parent\"><img src=\"https://colab.research.google.com/assets/colab-badge.svg\" alt=\"Open In Colab\"/></a>"
      ]
    },
    {
      "cell_type": "code",
      "execution_count": null,
      "metadata": {
        "id": "JJCj20tnkc5u"
      },
      "outputs": [],
      "source": [
        "# Create a class Car with attributes make, model, and year. Implement a method that prints the car&#39;s\n",
        "# description\n",
        "class car:\n",
        "    def __init__(self,name,model,color):\n",
        "        self.name=name\n",
        "        self.model=model\n",
        "        self.color=color"
      ]
    },
    {
      "cell_type": "code",
      "source": [
        "obj=car(\"audi\",\"a4\",\"black\")\n",
        "obj.name\n",
        "obj.model\n",
        "print(\"car detiles\")\n",
        "print(\"name =\",obj.name)\n",
        "print(\"model =\",obj.model)\n",
        "print(\"color =\",obj.color)"
      ],
      "metadata": {
        "colab": {
          "base_uri": "https://localhost:8080/"
        },
        "id": "_w9J0SVrlDpy",
        "outputId": "00bdc356-2b05-42c9-d3a2-46a87e3b7b74"
      },
      "execution_count": null,
      "outputs": [
        {
          "output_type": "stream",
          "name": "stdout",
          "text": [
            "car detiles\n",
            "name = audi\n",
            "model = a4\n",
            "color = black\n"
          ]
        }
      ]
    },
    {
      "cell_type": "code",
      "source": [
        "# Define a class Rectangle with attributes width and height. Add methods to calculate and return the\n",
        "# area and perimeter of the rectangle.\n",
        "class shape:\n",
        "    def __init__(self,width,height):\n",
        "        self.width=width\n",
        "        self.height=height"
      ],
      "metadata": {
        "id": "b5ABnKCLlbhz"
      },
      "execution_count": null,
      "outputs": []
    },
    {
      "cell_type": "code",
      "source": [
        "obj=shape(10,20)\n",
        "print(\"area of rectangle\",obj.width*obj.height)"
      ],
      "metadata": {
        "colab": {
          "base_uri": "https://localhost:8080/"
        },
        "id": "eYHIO7aFmtlO",
        "outputId": "751d2cec-ff09-45da-87ac-7a59015f47da"
      },
      "execution_count": null,
      "outputs": [
        {
          "output_type": "stream",
          "name": "stdout",
          "text": [
            "area of rectangle 200\n"
          ]
        }
      ]
    },
    {
      "cell_type": "code",
      "source": [
        "class person:\n",
        "  def __init__(self,name,age):\n",
        "    self.name=name\n",
        "    self.age=age"
      ],
      "metadata": {
        "id": "oPChePcCnFm4"
      },
      "execution_count": null,
      "outputs": []
    },
    {
      "cell_type": "code",
      "source": [
        "obj=person(\"deepak\",21)\n",
        "print(\"happy birthday\")\n",
        "print(obj.name)\n",
        "print(obj.age+1)"
      ],
      "metadata": {
        "colab": {
          "base_uri": "https://localhost:8080/"
        },
        "id": "WNlS24IbnlRI",
        "outputId": "8edfd934-0cc5-46dd-f6eb-bc86c653da70"
      },
      "execution_count": null,
      "outputs": [
        {
          "output_type": "stream",
          "name": "stdout",
          "text": [
            "happy birthday\n",
            "deepak\n",
            "22\n"
          ]
        }
      ]
    },
    {
      "cell_type": "code",
      "source": [
        "class bank:\n",
        "  def __init__(self,deposit,withdraw,blance):\n",
        "    self.deposit=deposit\n",
        "    self.withdraw=withdraw\n",
        "    self.blance=blance"
      ],
      "metadata": {
        "id": "TRDgWLjjn__w"
      },
      "execution_count": null,
      "outputs": []
    },
    {
      "cell_type": "code",
      "source": [
        "obj=bank(200000,10000,190000)\n",
        "print(obj.deposit)\n",
        "print(obj.withdraw)\n",
        "if(obj.blance>=0):\n",
        "  print(obj.blance)\n"
      ],
      "metadata": {
        "colab": {
          "base_uri": "https://localhost:8080/"
        },
        "id": "7qKEdD5TogEZ",
        "outputId": "2c111815-b11c-4771-c181-add9c90ac955"
      },
      "execution_count": null,
      "outputs": [
        {
          "output_type": "stream",
          "name": "stdout",
          "text": [
            "200000\n",
            "10000\n",
            "190000\n"
          ]
        }
      ]
    },
    {
      "cell_type": "code",
      "source": [
        "class circle:\n",
        "  def __init__ (self,radius):\n",
        "    self.radius=radius\n",
        "  def area(self):\n",
        "    return 314*self.radius**2\n",
        "  def circumference(self):\n",
        "    return 2*3.14*self.radius"
      ],
      "metadata": {
        "id": "nAXvqF7CpCFm"
      },
      "execution_count": null,
      "outputs": []
    },
    {
      "cell_type": "code",
      "source": [
        "obj=circle(15)\n",
        "print(obj.area())\n",
        "print(obj.circumference())"
      ],
      "metadata": {
        "colab": {
          "base_uri": "https://localhost:8080/"
        },
        "id": "ZMuMuI6j15ER",
        "outputId": "5ca65929-72bc-4baa-dae6-4e775c76dd70"
      },
      "execution_count": null,
      "outputs": [
        {
          "output_type": "stream",
          "name": "stdout",
          "text": [
            "70650\n",
            "94.2\n"
          ]
        }
      ]
    },
    {
      "cell_type": "code",
      "source": [
        "class animal:\n",
        "  def __init__(self,dog,cat):\n",
        "    self.__dog=dog\n",
        "    self.__cat=cat\n",
        "  def dispal(self):\n",
        "    return self.__dog\n",
        "  def dispal1(self):\n",
        "    return self.__cat"
      ],
      "metadata": {
        "id": "IPs1418n18Of"
      },
      "execution_count": null,
      "outputs": []
    },
    {
      "cell_type": "code",
      "source": [
        "obj=animal(\"tommy\",\"tom\")\n",
        "print(obj.dispal())\n",
        "print(obj.dispal1())"
      ],
      "metadata": {
        "colab": {
          "base_uri": "https://localhost:8080/"
        },
        "id": "kWF2hGXk2qia",
        "outputId": "b2131610-a430-41e1-b731-415a3b332e71"
      },
      "execution_count": null,
      "outputs": [
        {
          "output_type": "stream",
          "name": "stdout",
          "text": [
            "tommy\n",
            "tom\n"
          ]
        }
      ]
    },
    {
      "cell_type": "code",
      "source": [
        "class Num:\n",
        "  def __init__(self,name,grade,eng,hin,maths,average):\n",
        "    self.name=name\n",
        "    self.eng  = eng\n",
        "    self.hin = hin\n",
        "    self.maths = maths\n",
        "    self.grade=grade\n",
        "    self.average=average\n",
        "  def gra(self):\n",
        "    self.grade = self.eng + self.hin + self.maths\n",
        "    print(self.grade)\n",
        "    self.average = self.grade/3\n",
        "    print(self.average)\n",
        "\n",
        "a = Num(\"dEEEPAK\",0,45,56,65,0)\n",
        "a.gra()"
      ],
      "metadata": {
        "colab": {
          "base_uri": "https://localhost:8080/"
        },
        "id": "e9gLOjFp3JhB",
        "outputId": "e55d95b7-2806-4f6c-e3a9-32584a49a6bf"
      },
      "execution_count": null,
      "outputs": [
        {
          "output_type": "stream",
          "name": "stdout",
          "text": [
            "166\n",
            "55.333333333333336\n"
          ]
        }
      ]
    },
    {
      "cell_type": "code",
      "source": [
        "class book:\n",
        "  def __init__(self,title,author,page):\n",
        "    self.title=title\n",
        "    self.author=author\n",
        "    self.page=page"
      ],
      "metadata": {
        "id": "DKEyd4DW78TN"
      },
      "execution_count": null,
      "outputs": []
    },
    {
      "cell_type": "code",
      "source": [
        "obj=book(\"halfgf\",\"tom\",400)\n",
        "print(\"book detiles\")\n",
        "print(obj.title)\n",
        "print(obj.author)\n",
        "print(obj.page)"
      ],
      "metadata": {
        "colab": {
          "base_uri": "https://localhost:8080/"
        },
        "id": "MBrFkRmz9GAY",
        "outputId": "18a31456-6c29-42e5-eedf-e7b98d6f8c40"
      },
      "execution_count": null,
      "outputs": [
        {
          "output_type": "stream",
          "name": "stdout",
          "text": [
            "book detiles\n",
            "halfgf\n",
            "tom\n",
            "400\n"
          ]
        }
      ]
    },
    {
      "cell_type": "code",
      "source": [
        "class employee:\n",
        "  def __init__(self,name,salary,position):\n",
        "    self.name=name\n",
        "    self.salary=salary\n",
        "    self.position=position"
      ],
      "metadata": {
        "id": "heyOE5Ul9liW"
      },
      "execution_count": null,
      "outputs": []
    },
    {
      "cell_type": "code",
      "source": [
        "obj=employee(\"deepak\",20000,\"manager\")\n",
        "print(obj.name)\n",
        "print(obj.salary)\n",
        "print(obj.position)"
      ],
      "metadata": {
        "colab": {
          "base_uri": "https://localhost:8080/"
        },
        "id": "4XCYDx9H_gzy",
        "outputId": "fe812b28-700f-4098-b310-13f6f5d44c2c"
      },
      "execution_count": null,
      "outputs": [
        {
          "output_type": "stream",
          "name": "stdout",
          "text": [
            "deepak\n",
            "20000\n",
            "manager\n"
          ]
        }
      ]
    },
    {
      "cell_type": "code",
      "source": [
        "class shape:\n",
        "  def __init__(self,triangle,square,height,width):\n",
        "    self.height=height\n",
        "    self.width=width\n",
        "    self.triangle=triangle\n",
        "    self.square=square\n",
        "  def squ(self):\n",
        "    return self.square**2\n",
        "  def tir(self):\n",
        "    return self.triangle*self.height * self.width /2"
      ],
      "metadata": {
        "id": "0dGlc5sL_j87"
      },
      "execution_count": null,
      "outputs": []
    },
    {
      "cell_type": "code",
      "source": [
        "obj=shape(10,20,30,40)\n",
        "print(obj.squ())\n",
        "print(obj.tir())"
      ],
      "metadata": {
        "colab": {
          "base_uri": "https://localhost:8080/"
        },
        "id": "_1hdB6wwht8_",
        "outputId": "5255a64c-7aaf-4efb-e9dd-eb29ab2ec999"
      },
      "execution_count": null,
      "outputs": [
        {
          "output_type": "stream",
          "name": "stdout",
          "text": [
            "400\n",
            "6000.0\n"
          ]
        }
      ]
    },
    {
      "cell_type": "code",
      "source": [
        "class movie:\n",
        "  def __init__(self,title,director,rating):\n",
        "    self.title=title\n",
        "    self.director=director\n",
        "    self.rating=rating\n",
        "  def rat(self):\n",
        "    return self.rating\n"
      ],
      "metadata": {
        "id": "fPBAams-hxTj"
      },
      "execution_count": null,
      "outputs": []
    },
    {
      "cell_type": "code",
      "source": [
        "obj=movie('kgf','yash',6)\n",
        "print(\"movie detiles\")\n",
        "print(obj.title)\n",
        "print(obj.director)\n",
        "print(obj.rat())"
      ],
      "metadata": {
        "colab": {
          "base_uri": "https://localhost:8080/"
        },
        "id": "EC7n9nwpyT6F",
        "outputId": "ff16f7ef-dfd1-4f5d-eeb1-fe8215a1df0b"
      },
      "execution_count": null,
      "outputs": [
        {
          "output_type": "stream",
          "name": "stdout",
          "text": [
            "movie detiles\n",
            "kgf\n",
            "yash\n",
            "6\n"
          ]
        }
      ]
    },
    {
      "cell_type": "code",
      "source": [
        "class contact:\n",
        "  def __init__(self,name,phone,email):\n",
        "    self.name=name\n",
        "    self.phone=phone\n",
        "    self.email=email\n",
        "  def pho(self):\n",
        "    return self.phone\n",
        "  def ema(self):\n",
        "    return self.email"
      ],
      "metadata": {
        "id": "xmCd9Ga3yqZr"
      },
      "execution_count": null,
      "outputs": []
    },
    {
      "cell_type": "code",
      "source": [
        "obj=contact('deepak',8764178270,'deepak@123')\n",
        "print(obj.name)\n",
        "print(obj.pho())\n",
        "print(obj.ema())"
      ],
      "metadata": {
        "colab": {
          "base_uri": "https://localhost:8080/"
        },
        "id": "SG_WBJtBz9dl",
        "outputId": "397164b3-a792-4a24-d75f-ef11ac7e01bb"
      },
      "execution_count": null,
      "outputs": [
        {
          "output_type": "stream",
          "name": "stdout",
          "text": [
            "deepak\n",
            "8764178270\n",
            "deepak@123\n"
          ]
        }
      ]
    },
    {
      "cell_type": "code",
      "source": [],
      "metadata": {
        "id": "yFEi5pmK0RzI"
      },
      "execution_count": null,
      "outputs": []
    }
  ]
}